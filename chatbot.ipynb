{
 "cells": [
  {
   "cell_type": "code",
   "execution_count": 1,
   "id": "a0f85da9-d25e-4ac3-aac4-be4ac18459e9",
   "metadata": {},
   "outputs": [
    {
     "name": "stdout",
     "output_type": "stream",
     "text": [
      "Welcome to the customer support chatbot! Type 'exit' to end the chat.\n"
     ]
    },
    {
     "name": "stdin",
     "output_type": "stream",
     "text": [
      "You:  hi\n"
     ]
    },
    {
     "name": "stdout",
     "output_type": "stream",
     "text": [
      "Chatbot: Hello! How can I assist you today?\n"
     ]
    },
    {
     "name": "stdin",
     "output_type": "stream",
     "text": [
      "You:  what is the location\n"
     ]
    },
    {
     "name": "stdout",
     "output_type": "stream",
     "text": [
      "Chatbot: We are located at 1234 Elm Street, Anytown, USA.\n"
     ]
    },
    {
     "name": "stdin",
     "output_type": "stream",
     "text": [
      "You:  exit\n"
     ]
    },
    {
     "name": "stdout",
     "output_type": "stream",
     "text": [
      "Chatbot: Goodbye! Have a great day!\n"
     ]
    }
   ],
   "source": [
    "# Basic Rule-based Chatbot for Customer Enquiries\n",
    "\n",
    "# Define a dictionary of responses\n",
    "responses = {\n",
    "    \"hi\": \"Hello! How can I assist you today?\",\n",
    "    \"hello\": \"Hello! How can I help you?\",\n",
    "    \"what are your hours\": \"We are open from 9 AM to 5 PM, Monday to Friday.\",\n",
    "    \"hours of operation\": \"Our business hours are 9 AM to 5 PM, Monday to Friday.\",\n",
    "    \"contact information\": \"You can contact us at contact@example.com or call us at (123) 456-7890.\",\n",
    "    \"location\": \"We are located at 1234 Elm Street, Anytown, USA.\",\n",
    "    \"services\": \"We offer a wide range of services including A, B, and C. How can we assist you?\",\n",
    "    \"goodbye\": \"Thank you for reaching out. Have a great day!\",\n",
    "    \"bye\": \"Goodbye! Feel free to reach out if you have more questions.\"\n",
    "}\n",
    "\n",
    "# Define a fallback response for unrecognized inputs\n",
    "fallback_response = \"I'm sorry, I didn't understand that. Could you please rephrase your question?\"\n",
    "\n",
    "# Main function to get response from the chatbot\n",
    "def get_response(user_input):\n",
    "    # Normalize the input to lowercase to improve matching\n",
    "    user_input = user_input.lower()\n",
    "\n",
    "    # Check if the user input matches any predefined questions\n",
    "    for question in responses:\n",
    "        if question in user_input:\n",
    "            return responses[question]\n",
    "\n",
    "    # Return the fallback response if no match is found\n",
    "    return fallback_response\n",
    "\n",
    "# Main chat loop\n",
    "def chat():\n",
    "    print(\"Welcome to the customer support chatbot! Type 'exit' to end the chat.\")\n",
    "    \n",
    "    while True:\n",
    "        # Get input from the user\n",
    "        user_input = input(\"You: \")\n",
    "        \n",
    "        # Check if the user wants to exit\n",
    "        if user_input.lower() == \"exit\":\n",
    "            print(\"Chatbot: Goodbye! Have a great day!\")\n",
    "            break\n",
    "        \n",
    "        # Get the chatbot's response\n",
    "        response = get_response(user_input)\n",
    "        print(\"Chatbot:\", response)\n",
    "\n",
    "# Run the chat\n",
    "chat()\n"
   ]
  },
  {
   "cell_type": "code",
   "execution_count": 9,
   "id": "87820ef5",
   "metadata": {},
   "outputs": [
    {
     "name": "stdout",
     "output_type": "stream",
     "text": [
      "Questions Preview:\n",
      "\n"
     ]
    },
    {
     "data": {
      "text/plain": [
       "0                   What is your name?\n",
       "1         How can I reset my password?\n",
       "2     Can you help me with my account?\n",
       "3     What is artificial intelligence?\n",
       "4            How do I contact support?\n",
       "5           What is the return policy?\n",
       "6          Where can I track my order?\n",
       "7         Do you ship internationally?\n",
       "8    How do I change my email address?\n",
       "9               Can I cancel my order?\n",
       "Name: question, dtype: object"
      ]
     },
     "metadata": {},
     "output_type": "display_data"
    },
    {
     "name": "stdout",
     "output_type": "stream",
     "text": [
      "Hello! I'm your FAQ bot. Ask me anything or type 'quit' to exit.\n"
     ]
    },
    {
     "ename": "KeyboardInterrupt",
     "evalue": "Interrupted by user",
     "output_type": "error",
     "traceback": [
      "\u001b[1;31m---------------------------------------------------------------------------\u001b[0m",
      "\u001b[1;31mKeyboardInterrupt\u001b[0m                         Traceback (most recent call last)",
      "Cell \u001b[1;32mIn[9], line 47\u001b[0m\n\u001b[0;32m     44\u001b[0m \u001b[38;5;28mprint\u001b[39m(\u001b[38;5;124m\"\u001b[39m\u001b[38;5;124mHello! I\u001b[39m\u001b[38;5;124m'\u001b[39m\u001b[38;5;124mm your FAQ bot. Ask me anything or type \u001b[39m\u001b[38;5;124m'\u001b[39m\u001b[38;5;124mquit\u001b[39m\u001b[38;5;124m'\u001b[39m\u001b[38;5;124m to exit.\u001b[39m\u001b[38;5;124m\"\u001b[39m)\n\u001b[0;32m     46\u001b[0m \u001b[38;5;28;01mwhile\u001b[39;00m \u001b[38;5;28;01mTrue\u001b[39;00m:\n\u001b[1;32m---> 47\u001b[0m     user_input \u001b[38;5;241m=\u001b[39m \u001b[38;5;28;43minput\u001b[39;49m\u001b[43m(\u001b[49m\u001b[38;5;124;43m\"\u001b[39;49m\u001b[38;5;124;43mYou: \u001b[39;49m\u001b[38;5;124;43m\"\u001b[39;49m\u001b[43m)\u001b[49m\n\u001b[0;32m     48\u001b[0m     \u001b[38;5;28;01mif\u001b[39;00m user_input\u001b[38;5;241m.\u001b[39mlower() \u001b[38;5;241m==\u001b[39m \u001b[38;5;124m'\u001b[39m\u001b[38;5;124mquit\u001b[39m\u001b[38;5;124m'\u001b[39m:\n\u001b[0;32m     49\u001b[0m         \u001b[38;5;28mprint\u001b[39m(\u001b[38;5;124m\"\u001b[39m\u001b[38;5;124mChatbot: Goodbye!\u001b[39m\u001b[38;5;124m\"\u001b[39m)\n",
      "File \u001b[1;32m~\\anaconda3\\envs\\py310\\lib\\site-packages\\ipykernel\\kernelbase.py:1262\u001b[0m, in \u001b[0;36mKernel.raw_input\u001b[1;34m(self, prompt)\u001b[0m\n\u001b[0;32m   1260\u001b[0m     msg \u001b[38;5;241m=\u001b[39m \u001b[38;5;124m\"\u001b[39m\u001b[38;5;124mraw_input was called, but this frontend does not support input requests.\u001b[39m\u001b[38;5;124m\"\u001b[39m\n\u001b[0;32m   1261\u001b[0m     \u001b[38;5;28;01mraise\u001b[39;00m StdinNotImplementedError(msg)\n\u001b[1;32m-> 1262\u001b[0m \u001b[38;5;28;01mreturn\u001b[39;00m \u001b[38;5;28;43mself\u001b[39;49m\u001b[38;5;241;43m.\u001b[39;49m\u001b[43m_input_request\u001b[49m\u001b[43m(\u001b[49m\n\u001b[0;32m   1263\u001b[0m \u001b[43m    \u001b[49m\u001b[38;5;28;43mstr\u001b[39;49m\u001b[43m(\u001b[49m\u001b[43mprompt\u001b[49m\u001b[43m)\u001b[49m\u001b[43m,\u001b[49m\n\u001b[0;32m   1264\u001b[0m \u001b[43m    \u001b[49m\u001b[38;5;28;43mself\u001b[39;49m\u001b[38;5;241;43m.\u001b[39;49m\u001b[43m_parent_ident\u001b[49m\u001b[43m[\u001b[49m\u001b[38;5;124;43m\"\u001b[39;49m\u001b[38;5;124;43mshell\u001b[39;49m\u001b[38;5;124;43m\"\u001b[39;49m\u001b[43m]\u001b[49m\u001b[43m,\u001b[49m\n\u001b[0;32m   1265\u001b[0m \u001b[43m    \u001b[49m\u001b[38;5;28;43mself\u001b[39;49m\u001b[38;5;241;43m.\u001b[39;49m\u001b[43mget_parent\u001b[49m\u001b[43m(\u001b[49m\u001b[38;5;124;43m\"\u001b[39;49m\u001b[38;5;124;43mshell\u001b[39;49m\u001b[38;5;124;43m\"\u001b[39;49m\u001b[43m)\u001b[49m\u001b[43m,\u001b[49m\n\u001b[0;32m   1266\u001b[0m \u001b[43m    \u001b[49m\u001b[43mpassword\u001b[49m\u001b[38;5;241;43m=\u001b[39;49m\u001b[38;5;28;43;01mFalse\u001b[39;49;00m\u001b[43m,\u001b[49m\n\u001b[0;32m   1267\u001b[0m \u001b[43m\u001b[49m\u001b[43m)\u001b[49m\n",
      "File \u001b[1;32m~\\anaconda3\\envs\\py310\\lib\\site-packages\\ipykernel\\kernelbase.py:1305\u001b[0m, in \u001b[0;36mKernel._input_request\u001b[1;34m(self, prompt, ident, parent, password)\u001b[0m\n\u001b[0;32m   1302\u001b[0m \u001b[38;5;28;01mexcept\u001b[39;00m \u001b[38;5;167;01mKeyboardInterrupt\u001b[39;00m:\n\u001b[0;32m   1303\u001b[0m     \u001b[38;5;66;03m# re-raise KeyboardInterrupt, to truncate traceback\u001b[39;00m\n\u001b[0;32m   1304\u001b[0m     msg \u001b[38;5;241m=\u001b[39m \u001b[38;5;124m\"\u001b[39m\u001b[38;5;124mInterrupted by user\u001b[39m\u001b[38;5;124m\"\u001b[39m\n\u001b[1;32m-> 1305\u001b[0m     \u001b[38;5;28;01mraise\u001b[39;00m \u001b[38;5;167;01mKeyboardInterrupt\u001b[39;00m(msg) \u001b[38;5;28;01mfrom\u001b[39;00m \u001b[38;5;28;01mNone\u001b[39;00m\n\u001b[0;32m   1306\u001b[0m \u001b[38;5;28;01mexcept\u001b[39;00m \u001b[38;5;167;01mException\u001b[39;00m:\n\u001b[0;32m   1307\u001b[0m     \u001b[38;5;28mself\u001b[39m\u001b[38;5;241m.\u001b[39mlog\u001b[38;5;241m.\u001b[39mwarning(\u001b[38;5;124m\"\u001b[39m\u001b[38;5;124mInvalid Message:\u001b[39m\u001b[38;5;124m\"\u001b[39m, exc_info\u001b[38;5;241m=\u001b[39m\u001b[38;5;28;01mTrue\u001b[39;00m)\n",
      "\u001b[1;31mKeyboardInterrupt\u001b[0m: Interrupted by user"
     ]
    }
   ],
   "source": [
    "#on dataset \n",
    "import pandas as pd\n",
    "from sklearn.feature_extraction.text import TfidfVectorizer\n",
    "from sklearn.metrics.pairwise import cosine_similarity\n",
    "import re\n",
    "\n",
    "# Step 1: Load the Dataset\n",
    "data = pd.read_csv('faq_data.csv', delimiter=',')\n",
    "print(\"Questions Preview:\")\n",
    "display(data['question'])\n",
    "\n",
    "\n",
    "# Step 2: Text Preprocessing Function\n",
    "def preprocess_text(text):\n",
    "    text = text.lower()  # Convert to lowercase\n",
    "    text = re.sub(r'\\W', ' ', text)  # Remove non-word characters\n",
    "    text = re.sub(r'\\s+', ' ', text)  # Remove extra spaces\n",
    "    return text.strip()\n",
    "\n",
    "# Apply preprocessing to dataset\n",
    "data['question'] = data['question'].apply(preprocess_text)\n",
    "data['answer'] = data['answer'].apply(preprocess_text)\n",
    "\n",
    "# Step 3: Vectorize the Questions\n",
    "vectorizer = TfidfVectorizer()\n",
    "question_vectors = vectorizer.fit_transform(data['question'])\n",
    "\n",
    "# Step 4: Define the Chatbot Response Function\n",
    "def get_response(user_input):\n",
    "    user_input = preprocess_text(user_input)  # Preprocess user input\n",
    "    user_vector = vectorizer.transform([user_input])  # Vectorize user input\n",
    "    \n",
    "    # Calculate cosine similarity\n",
    "    similarities = cosine_similarity(user_vector, question_vectors)\n",
    "    closest_match_index = similarities.argmax()\n",
    "    closest_match_score = similarities[0, closest_match_index]\n",
    "    \n",
    "    # If similarity score is above a threshold, return the best match answer\n",
    "    if closest_match_score > 0.2:  # You may adjust the threshold based on testing\n",
    "        return data.iloc[closest_match_index]['answer']\n",
    "    else:\n",
    "        return \"I'm sorry, I don't understand. Could you rephrase your question?\"\n",
    "\n",
    "# Step 5: Chat Loop\n",
    "print(\"Hello! I'm your FAQ bot. Ask me anything or type 'quit' to exit.\")\n",
    "\n",
    "while True:\n",
    "    user_input = input(\"You: \")\n",
    "    if user_input.lower() == 'quit':\n",
    "        print(\"Chatbot: Goodbye!\")\n",
    "        break\n",
    "    response = get_response(user_input)\n",
    "    print(\"Chatbot:\", response)\n",
    "\n"
   ]
  },
  {
   "cell_type": "code",
   "execution_count": null,
   "id": "92043e9a-1d0e-41a9-bd59-2e82afc093af",
   "metadata": {},
   "outputs": [],
   "source": []
  }
 ],
 "metadata": {
  "kernelspec": {
   "display_name": "Python 3 (ipykernel)",
   "language": "python",
   "name": "python3"
  },
  "language_info": {
   "codemirror_mode": {
    "name": "ipython",
    "version": 3
   },
   "file_extension": ".py",
   "mimetype": "text/x-python",
   "name": "python",
   "nbconvert_exporter": "python",
   "pygments_lexer": "ipython3",
   "version": "3.10.13"
  }
 },
 "nbformat": 4,
 "nbformat_minor": 5
}
