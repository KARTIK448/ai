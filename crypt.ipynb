{
 "cells": [
  {
   "cell_type": "code",
   "execution_count": 2,
   "id": "74e17aed-a332-415d-bace-36f484471ca1",
   "metadata": {},
   "outputs": [
    {
     "name": "stdout",
     "output_type": "stream",
     "text": [
      "121 + 527 == 0648\n"
     ]
    }
   ],
   "source": [
    "import re\n",
    "from typing import Iterable, Callable, Tuple\n",
    "from itertools import permutations\n",
    "\n",
    "\n",
    "Formula  = str # A formula in Math notation, like \"NUM ^ BER = PLAY\"\n",
    "Pformula = str # A formula in Python notation, like \"NUM ** BER == PLAY\"\n",
    "Solution = str # A formula with letters relaced by digits, like \"356 + 742 = 1098\"\n",
    "def solve(formula) -> Iterable[Solution]:\n",
    "    \"\"\"Given a formula like 'NUM + BER == PLAY', fill in digits to solve it.\"\"\"\n",
    "    letters  = all_letters(formula)\n",
    "    pformula = to_python(formula)\n",
    "    for digits in permutations('1234567890', len(letters)):\n",
    "        if valid(subst(digits, letters, pformula)):\n",
    "            yield subst(digits, letters, formula)\n",
    "        \n",
    "def subst(digits, letters, formula) -> Formula:\n",
    "    \"\"\"Substitute digits for letters in formula.\"\"\"\n",
    "    return formula.translate(str.maketrans(letters, cat(digits)))\n",
    "        \n",
    "def valid(pformula) -> bool:\n",
    "    \"\"\"A pformula is valid iff it has no leading zero, and evaluates to True.\"\"\"\n",
    "    try:\n",
    "        return (not leading_zero(pformula)) and (eval(pformula) is True)\n",
    "    except ArithmeticError:\n",
    "        return False\n",
    "    \n",
    "def to_python(formula: Formula) -> Pformula:\n",
    "    \"\"\"Convert ' = ' and '^' to ' == ' and '**'.\"\"\"\n",
    "    return formula.replace(' = ', ' == ').replace('^', '**') \n",
    "\n",
    "def all_letters(formula: str) -> str: \n",
    "    \"\"\"The set of letters in formula, in the form of an alphabetized string.\"\"\"\n",
    "    return cat(sorted(set(re.findall('[A-Z]', formula))))\n",
    "\n",
    "def first(iterable): \"First element\"; return next(iter(iterable), None)\n",
    "    \n",
    "cat = ''.join # Function to concatenate strings\n",
    "    \n",
    "leading_zero = re.compile(r'\\b0[0-9]').search # Function to check for illegal number\n",
    "\n",
    "\n",
    "#INPUT:   first(solve('BASE + BALL = GAMES'))\n",
    "\n",
    " \n",
    "def solve(q):\n",
    "    try:\n",
    "        n = next(i for i in q if i.isalpha())  # Check if q has alphabetic characters\n",
    "    except StopIteration:\n",
    "        # Use eval to evaluate the parsed string\n",
    "        # Use sub to replace strings with regular expressions\n",
    "        # In the regular expression, ab+ will match 'a' followed by any non-zero number of 'b's\n",
    "        # [abv] is a set of characters, which will match 'a', 'b', or 'v'\n",
    "        # ^[0-9] means \"any digit, at the start of the string\"; [^0-9] means \"anything except a digit\"\n",
    "        return q if eval(re.sub(r'(^|[^0-9])0+([1-9]+)', r'\\1\\2', q)) else False\n",
    "    else:\n",
    "        for i in (str(i) for i in range(10) if str(i) not in q):\n",
    "            r = solve(q.replace(n, str(i)))  # Replace character with number\n",
    "            if r:\n",
    "                return r\n",
    "        return False\n",
    " \n",
    "# Driver code\n",
    "if __name__ == \"__main__\":\n",
    "    query = \"MEM + BER == PLAY\"\n",
    "    r = solve(query)\n",
    "    print(r) if r else print(\"No solution found.\")"
   ]
  },
  {
   "cell_type": "code",
   "execution_count": null,
   "id": "03179e33-cbb9-4495-bcc6-734a094fd8af",
   "metadata": {},
   "outputs": [],
   "source": [
    "!jupyter nbconvert to-"
   ]
  }
 ],
 "metadata": {
  "kernelspec": {
   "display_name": "Python 3 (ipykernel)",
   "language": "python",
   "name": "python3"
  },
  "language_info": {
   "codemirror_mode": {
    "name": "ipython",
    "version": 3
   },
   "file_extension": ".py",
   "mimetype": "text/x-python",
   "name": "python",
   "nbconvert_exporter": "python",
   "pygments_lexer": "ipython3",
   "version": "3.10.13"
  }
 },
 "nbformat": 4,
 "nbformat_minor": 5
}
